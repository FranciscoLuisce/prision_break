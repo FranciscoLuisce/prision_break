{
 "cells": [
  {
   "cell_type": "markdown",
   "metadata": {},
   "source": [
    "# Escapes de prisión en helicóptero"
   ]
  },
  {
   "cell_type": "markdown",
   "metadata": {},
   "source": [
    "## Resumen: \n",
    "    En el presente proyecto serán respondidas las siguientes preguntas:\n",
    "        1. ¿En qué año ocurrieron la mayoría de los intentos de escape de prisión en helicóptero?\n",
    "        2. ¿En qué países ocurren la mayoría de los intentos de escape de prisión en helicóptero?\n",
    "        3. ¿En qué países tienen los intentos de escape de prisión en helicóptero una mayor probabilidad de éxito?\n",
    "        4. ¿Cómo afecta el número de fugitivos al éxito del escape?\n",
    "        5. ¿Cuáles fugitivos lo han hecho más de una vez?"
   ]
  },
  {
   "cell_type": "markdown",
   "metadata": {},
   "source": [
    "Empezamos importando algunos métodos de la librería helper, las cuales nos ayudarán a modelar los datos de una manera más simple."
   ]
  },
  {
   "cell_type": "code",
   "execution_count": 1,
   "metadata": {},
   "outputs": [],
   "source": [
    "from helper import *"
   ]
  },
  {
   "cell_type": "markdown",
   "metadata": {},
   "source": [
    "Importamos la librería pandas, de la cual usaremos métodos puntuales para la presentación de la data y el modelamiento de datos. Este paso no es necesario, debido a que la librería helper posee ya la librería pandas (Ver archivo); sin embargo, para efectos didácticos, se importará de todas maneras."
   ]
  },
  {
   "cell_type": "code",
   "execution_count": 2,
   "metadata": {},
   "outputs": [],
   "source": [
    "import pandas as pd"
   ]
  },
  {
   "cell_type": "markdown",
   "metadata": {},
   "source": [
    "Importamos la sub-librería pyplot, de Matplotlib ya que no necesitaremos configurar completamente el gráfico. Esta sub-librería nos permitirá generar gráficos rápidos para un análisis de datos ágil. Este paso no es necesario, debido a que la librería helper posee ya la sub-librería pyplot (Ver archivo); sin embargo, para efectos didácticos, se importará de todas maneras."
   ]
  },
  {
   "cell_type": "code",
   "execution_count": 3,
   "metadata": {},
   "outputs": [],
   "source": [
    "import matplotlib.pyplot as plt"
   ]
  },
  {
   "cell_type": "markdown",
   "metadata": {},
   "source": [
    "## Consiguiendo la data"
   ]
  },
  {
   "cell_type": "markdown",
   "metadata": {},
   "source": [
    "Ahora consigamos la data de la lista de los escapes de prisión en helicóptero en el artículo de Wikipedia. (https://en.wikipedia.org/wiki/List_of_helicopter_prison_escapes)"
   ]
  },
  {
   "cell_type": "code",
   "execution_count": 4,
   "metadata": {},
   "outputs": [],
   "source": [
    "url = 'https://en.wikipedia.org/wiki/List_of_helicopter_prison_escapes'\n",
    "data = data_from_url(url)"
   ]
  },
  {
   "cell_type": "markdown",
   "metadata": {},
   "source": [
    "Revisamos las primeras filas de tabla con la función display_no_index(), incluida en la librería helper. Este paso se puede omitir ya que es solo para dar una idea visual de la tabla, de lo contrario se puede revisar directamente desde el enlace de donde se obtuvo la data."
   ]
  },
  {
   "cell_type": "code",
   "execution_count": 5,
   "metadata": {},
   "outputs": [
    {
     "data": {
      "text/html": [
       "<table border=\"1\" class=\"dataframe\">\n",
       "  <thead>\n",
       "    <tr style=\"text-align: right;\">\n",
       "      <th>Date</th>\n",
       "      <th>Prision Name</th>\n",
       "      <th>Country</th>\n",
       "      <th>Succeeded</th>\n",
       "      <th>Escapee(s)</th>\n",
       "      <th>Details</th>\n",
       "    </tr>\n",
       "  </thead>\n",
       "  <tbody>\n",
       "    <tr>\n",
       "      <td>August 19, 1971</td>\n",
       "      <td>Santa Martha Acatitla</td>\n",
       "      <td>Mexico</td>\n",
       "      <td>Yes</td>\n",
       "      <td>Joel David Kaplan Carlos Antonio Contreras Castro</td>\n",
       "      <td>Joel David Kaplan was a New York businessman who had been arrested for murder in 1962 in Mexico City and was incarcerated at the Santa Martha Acatitla prison in the Iztapalapa borough of Mexico City. Joel's sister, Judy Kaplan, arranged the means to help Kaplan escape, and on August 19, 1971, a helicopter landed in the prison yard. The guards mistakenly thought this was an official visit. In two minutes, Kaplan and his cellmate Carlos Antonio Contreras, a Venezuelan counterfeiter, were able to board the craft and were piloted away, before any shots were fired.[9] Both men were flown to Texas and then different planes flew Kaplan to California and Contreras to Guatemala.[3] The Mexican government never initiated extradition proceedings against Kaplan.[9] The escape is told in a book, The 10-Second Jailbreak: The Helicopter Escape of Joel David Kaplan.[4] It also inspired the 1975 action movie Breakout, which starred Charles Bronson and Robert Duvall.[9]</td>\n",
       "    </tr>\n",
       "    <tr>\n",
       "      <td>October 31, 1973</td>\n",
       "      <td>Mountjoy Jail</td>\n",
       "      <td>Ireland</td>\n",
       "      <td>Yes</td>\n",
       "      <td>JB O'Hagan Seamus TwomeyKevin Mallon</td>\n",
       "      <td>On October 31, 1973, an IRA member hijacked a helicopter and forced the pilot to land in the exercise yard of Dublin's Mountjoy Jail's D Wing at 3:40 p.m., October 31, 1973. Three members of the IRA were able to escape: JB O'Hagan, Seamus Twomey and Kevin Mallon. Another prisoner who also was in the prison was quoted as saying, \"One shamefaced screw apologised to the governor and said he thought it was the new Minister for Defence (Paddy Donegan) arriving. I told him it was our Minister of Defence leaving.\" The Mountjoy helicopter escape became Republican lore and was immortalized by \"The Helicopter Song\", which contains the lines \"It's up like a bird and over the city. There's three men a'missing I heard the warder say\".[1]</td>\n",
       "    </tr>\n",
       "  </tbody>\n",
       "</table>"
      ],
      "text/plain": [
       "<IPython.core.display.HTML object>"
      ]
     },
     "metadata": {},
     "output_type": "display_data"
    }
   ],
   "source": [
    "df1 = pd.DataFrame(data[:2], columns = ['Date', 'Prision Name', 'Country', 'Succeeded', 'Escapee(s)', 'Details'])\n",
    "display_no_index(df1)"
   ]
  },
  {
   "cell_type": "markdown",
   "metadata": {},
   "source": [
    "## Limpiando la data"
   ]
  },
  {
   "cell_type": "markdown",
   "metadata": {},
   "source": [
    "### Eliminando la columna detalles:\n",
    "Debido a que no necesitaremos detalles específicos de los escapes, eliminaremos la columna 'Details'."
   ]
  },
  {
   "cell_type": "code",
   "execution_count": 6,
   "metadata": {},
   "outputs": [
    {
     "data": {
      "text/html": [
       "<table border=\"1\" class=\"dataframe\">\n",
       "  <thead>\n",
       "    <tr style=\"text-align: right;\">\n",
       "      <th>Date</th>\n",
       "      <th>Prision Name</th>\n",
       "      <th>Country</th>\n",
       "      <th>Succeeded</th>\n",
       "      <th>Escapee(s)</th>\n",
       "    </tr>\n",
       "  </thead>\n",
       "  <tbody>\n",
       "    <tr>\n",
       "      <td>August 19, 1971</td>\n",
       "      <td>Santa Martha Acatitla</td>\n",
       "      <td>Mexico</td>\n",
       "      <td>Yes</td>\n",
       "      <td>Joel David Kaplan Carlos Antonio Contreras Castro</td>\n",
       "    </tr>\n",
       "    <tr>\n",
       "      <td>October 31, 1973</td>\n",
       "      <td>Mountjoy Jail</td>\n",
       "      <td>Ireland</td>\n",
       "      <td>Yes</td>\n",
       "      <td>JB O'Hagan Seamus TwomeyKevin Mallon</td>\n",
       "    </tr>\n",
       "  </tbody>\n",
       "</table>"
      ],
      "text/plain": [
       "<IPython.core.display.HTML object>"
      ]
     },
     "metadata": {},
     "output_type": "display_data"
    }
   ],
   "source": [
    "index = 0\n",
    "for row in data[:3]:\n",
    "    data[index] = row[:-1]\n",
    "    index += 1\n",
    "    \n",
    "df1a = pd.DataFrame(data[:2], columns = ['Date', 'Prision Name', 'Country', 'Succeeded', 'Escapee(s)'])\n",
    "display_no_index(df1a)"
   ]
  },
  {
   "cell_type": "markdown",
   "metadata": {},
   "source": [
    "## Resolviendo la pregunta 1."
   ]
  },
  {
   "cell_type": "markdown",
   "metadata": {},
   "source": [
    "### Extrayendo el año de la fecha:\n",
    "En este caso, solo necesitaremos hacer el análisis por año, el cual extraeremos utilizando la función fetch_year()."
   ]
  },
  {
   "cell_type": "code",
   "execution_count": 7,
   "metadata": {},
   "outputs": [],
   "source": [
    "for row in data:\n",
    "    row[0] = fetch_year(row[0])"
   ]
  },
  {
   "cell_type": "markdown",
   "metadata": {},
   "source": [
    "### Generando una lista de años desde el primer escape registrado hasta el último:\n",
    "En este paso utilizaremos las funciones min y max, orientadas a la primera columna de la tabla 'data' y crearemos la lista 'attempts_per_year', la cual almacenará los años desde el primer incidente hasta el último y contará las veces en las que hubo incidentes por año."
   ]
  },
  {
   "cell_type": "code",
   "execution_count": 8,
   "metadata": {},
   "outputs": [],
   "source": [
    "min_year = min(data, key=lambda x: x[0])[0]\n",
    "max_year = max(data, key=lambda x: x[0])[0]\n",
    "attempts_per_year = []\n",
    "for year in range(min_year, max_year + 1):\n",
    "    attempts_per_year.append([year,0])"
   ]
  },
  {
   "cell_type": "markdown",
   "metadata": {},
   "source": [
    "### Modificando el contador de la lista 'attempts_per_year':\n",
    "Se modifica el segundo elemento de la lista 'attempts_per_year', el cual contará las veces que se registre un incidente en un año en particular. Para validar la tabla, la imprimimos con el método Dataframe()."
   ]
  },
  {
   "cell_type": "code",
   "execution_count": 9,
   "metadata": {},
   "outputs": [
    {
     "data": {
      "text/html": [
       "<table border=\"1\" class=\"dataframe\">\n",
       "  <thead>\n",
       "    <tr style=\"text-align: right;\">\n",
       "      <th>Year</th>\n",
       "      <th>Attempts</th>\n",
       "    </tr>\n",
       "  </thead>\n",
       "  <tbody>\n",
       "    <tr>\n",
       "      <td>1971</td>\n",
       "      <td>1</td>\n",
       "    </tr>\n",
       "    <tr>\n",
       "      <td>1972</td>\n",
       "      <td>0</td>\n",
       "    </tr>\n",
       "    <tr>\n",
       "      <td>1973</td>\n",
       "      <td>1</td>\n",
       "    </tr>\n",
       "  </tbody>\n",
       "</table>"
      ],
      "text/plain": [
       "<IPython.core.display.HTML object>"
      ]
     },
     "metadata": {},
     "output_type": "display_data"
    }
   ],
   "source": [
    "for row in data:\n",
    "    for year_attempt in attempts_per_year:\n",
    "        if row[0] == year_attempt[0]:\n",
    "            year_attempt[1] += 1\n",
    "df2 = pd.DataFrame(attempts_per_year, columns = ['Year', 'Attempts'])\n",
    "display_no_index(df2[:3])"
   ]
  },
  {
   "cell_type": "markdown",
   "metadata": {},
   "source": [
    "### Presentación gráfica:\n",
    "Se ejecuta el método barplot() para dar una interfaz gráfica a la lista 'attempts_per_year'."
   ]
  },
  {
   "cell_type": "code",
   "execution_count": 10,
   "metadata": {},
   "outputs": [
    {
     "data": {
      "image/png": "[encoded data removed]",
      "text/plain": [
       "<Figure size 900x1500 with 1 Axes>"
      ]
     },
     "metadata": {},
     "output_type": "display_data"
    }
   ],
   "source": [
    "%matplotlib inline\n",
    "barplot(attempts_per_year)"
   ]
  },
  {
   "cell_type": "markdown",
   "metadata": {},
   "source": [
    "### Conclusión 1:\n",
    "Los años con mayor incidencia de escapes de prisión fueron los años 1986, 2001,2007 y 2009 con 3 incidencias cada uno."
   ]
  },
  {
   "cell_type": "markdown",
   "metadata": {},
   "source": [
    "## Resolviendo la pregunta 2."
   ]
  },
  {
   "cell_type": "markdown",
   "metadata": {},
   "source": [
    "### Una manera alternativa de trabajar los datos (DataFrame):\n",
    "En este caso trabajaremos los datos en forma de DataFrame, objeto que nos permite modelar los datos de manera más eficiente. La primera fila de código nos permite obtener los datos de la segunda lista del url señalado. La segunda fila de código nos permite filtrar la data que necesitamos en función al nombre de los encabezados; esta manera de filtrar los datos es propia de los objetos DataFrame. Notemos que este DataFrame ya está definido en la librería helper; sin embargo, se muestra aquí por un tema didáctico."
   ]
  },
  {
   "cell_type": "code",
   "execution_count": 11,
   "metadata": {},
   "outputs": [
    {
     "data": {
      "text/html": [
       "<table border=\"1\" class=\"dataframe\">\n",
       "  <thead>\n",
       "    <tr style=\"text-align: right;\">\n",
       "      <th>Date</th>\n",
       "      <th>Prison name</th>\n",
       "      <th>Country</th>\n",
       "      <th>Succeeded</th>\n",
       "      <th>Escapee(s)</th>\n",
       "    </tr>\n",
       "  </thead>\n",
       "  <tbody>\n",
       "    <tr>\n",
       "      <td>August 19, 1971</td>\n",
       "      <td>Santa Martha Acatitla</td>\n",
       "      <td>Mexico</td>\n",
       "      <td>Yes</td>\n",
       "      <td>Joel David Kaplan Carlos Antonio Contreras Castro</td>\n",
       "    </tr>\n",
       "    <tr>\n",
       "      <td>October 31, 1973</td>\n",
       "      <td>Mountjoy Jail</td>\n",
       "      <td>Ireland</td>\n",
       "      <td>Yes</td>\n",
       "      <td>JB O'Hagan Seamus TwomeyKevin Mallon</td>\n",
       "    </tr>\n",
       "    <tr>\n",
       "      <td>May 24, 1978</td>\n",
       "      <td>United States Penitentiary, Marion</td>\n",
       "      <td>United States</td>\n",
       "      <td>No</td>\n",
       "      <td>Garrett Brock TrapnellMartin Joseph McNallyJames Kenneth Johnson</td>\n",
       "    </tr>\n",
       "  </tbody>\n",
       "</table>"
      ],
      "text/plain": [
       "<IPython.core.display.HTML object>"
      ]
     },
     "metadata": {},
     "output_type": "display_data"
    }
   ],
   "source": [
    "df = pd.read_html(\"https://en.wikipedia.org/wiki/List_of_helicopter_prison_escapes\")[1]\n",
    "df = df[[\"Date\", \"Prison name\", \"Country\", \"Succeeded\", \"Escapee(s)\"]]\n",
    "display_no_index(df[:3])"
   ]
  },
  {
   "cell_type": "markdown",
   "metadata": {},
   "source": [
    "### Presentación en tabla:\n",
    "Se definen dos variables, la primera será encargada de señalar los países, y la segunda será el contador de ocurrencias, sean o no exitosas."
   ]
  },
  {
   "cell_type": "code",
   "execution_count": 12,
   "metadata": {},
   "outputs": [
    {
     "data": {
      "text/html": [
       "<table border=\"1\" class=\"dataframe\">\n",
       "  <thead>\n",
       "    <tr style=\"text-align: right;\">\n",
       "      <th>Country</th>\n",
       "      <th>Number of Occurrences</th>\n",
       "    </tr>\n",
       "  </thead>\n",
       "  <tbody>\n",
       "    <tr>\n",
       "      <td>France</td>\n",
       "      <td>15</td>\n",
       "    </tr>\n",
       "    <tr>\n",
       "      <td>United States</td>\n",
       "      <td>8</td>\n",
       "    </tr>\n",
       "    <tr>\n",
       "      <td>Greece</td>\n",
       "      <td>4</td>\n",
       "    </tr>\n",
       "    <tr>\n",
       "      <td>Canada</td>\n",
       "      <td>4</td>\n",
       "    </tr>\n",
       "    <tr>\n",
       "      <td>Belgium</td>\n",
       "      <td>4</td>\n",
       "    </tr>\n",
       "    <tr>\n",
       "      <td>Brazil</td>\n",
       "      <td>2</td>\n",
       "    </tr>\n",
       "    <tr>\n",
       "      <td>United Kingdom</td>\n",
       "      <td>2</td>\n",
       "    </tr>\n",
       "    <tr>\n",
       "      <td>Australia</td>\n",
       "      <td>2</td>\n",
       "    </tr>\n",
       "    <tr>\n",
       "      <td>Russia</td>\n",
       "      <td>1</td>\n",
       "    </tr>\n",
       "    <tr>\n",
       "      <td>Italy</td>\n",
       "      <td>1</td>\n",
       "    </tr>\n",
       "    <tr>\n",
       "      <td>Mexico</td>\n",
       "      <td>1</td>\n",
       "    </tr>\n",
       "    <tr>\n",
       "      <td>Puerto Rico</td>\n",
       "      <td>1</td>\n",
       "    </tr>\n",
       "    <tr>\n",
       "      <td>Chile</td>\n",
       "      <td>1</td>\n",
       "    </tr>\n",
       "    <tr>\n",
       "      <td>Ireland</td>\n",
       "      <td>1</td>\n",
       "    </tr>\n",
       "    <tr>\n",
       "      <td>Netherlands</td>\n",
       "      <td>1</td>\n",
       "    </tr>\n",
       "  </tbody>\n",
       "</table>"
      ],
      "text/plain": [
       "<IPython.core.display.HTML object>"
      ]
     },
     "metadata": {},
     "output_type": "display_data"
    }
   ],
   "source": [
    "countries = df.Country.value_counts().index\n",
    "occurrences = df.Country.value_counts().values\n",
    "d = {\"Country\": countries, \"Number of Occurrences\": occurrences}\n",
    "display_no_index(pd.DataFrame(d))"
   ]
  },
  {
   "cell_type": "markdown",
   "metadata": {},
   "source": [
    "### Conclusión 2:\n",
    "    El top 3 de países con mayor número de ocurrencias de escapes en helicóptero son:\n",
    "        1. Francia, con 15 ocurrencias.\n",
    "        2. Estados unidos, con 8 ocurrencias.\n",
    "        3. Grecia, Bélgica y Canadá, con 4 ocurrencias."
   ]
  },
  {
   "cell_type": "markdown",
   "metadata": {},
   "source": [
    "## Resolviendo la pregunta 3."
   ]
  },
  {
   "cell_type": "markdown",
   "metadata": {},
   "source": [
    "### Creamos el DataFrame:\n",
    "Debido a que es más fácil trabajar con DataFrames, usaremos el DataFrame 'attempt', generado a partir de la función pd.crosstab(), tomando como atributos las columnas 'Country' y 'Succeeded' del DataFrame 'df, definido líneas arriba."
   ]
  },
  {
   "cell_type": "code",
   "execution_count": 13,
   "metadata": {},
   "outputs": [
    {
     "data": {
      "text/html": [
       "<div>\n",
       "<style scoped>\n",
       "    .dataframe tbody tr th:only-of-type {\n",
       "        vertical-align: middle;\n",
       "    }\n",
       "\n",
       "    .dataframe tbody tr th {\n",
       "        vertical-align: top;\n",
       "    }\n",
       "\n",
       "    .dataframe thead th {\n",
       "        text-align: right;\n",
       "    }\n",
       "</style>\n",
       "<table border=\"1\" class=\"dataframe\">\n",
       "  <thead>\n",
       "    <tr style=\"text-align: right;\">\n",
       "      <th>Succeeded</th>\n",
       "      <th>No</th>\n",
       "      <th>Yes</th>\n",
       "    </tr>\n",
       "    <tr>\n",
       "      <th>Country</th>\n",
       "      <th></th>\n",
       "      <th></th>\n",
       "    </tr>\n",
       "  </thead>\n",
       "  <tbody>\n",
       "    <tr>\n",
       "      <th>Australia</th>\n",
       "      <td>1</td>\n",
       "      <td>1</td>\n",
       "    </tr>\n",
       "    <tr>\n",
       "      <th>Belgium</th>\n",
       "      <td>2</td>\n",
       "      <td>2</td>\n",
       "    </tr>\n",
       "    <tr>\n",
       "      <th>Brazil</th>\n",
       "      <td>0</td>\n",
       "      <td>2</td>\n",
       "    </tr>\n",
       "    <tr>\n",
       "      <th>Canada</th>\n",
       "      <td>1</td>\n",
       "      <td>3</td>\n",
       "    </tr>\n",
       "    <tr>\n",
       "      <th>Chile</th>\n",
       "      <td>0</td>\n",
       "      <td>1</td>\n",
       "    </tr>\n",
       "    <tr>\n",
       "      <th>France</th>\n",
       "      <td>4</td>\n",
       "      <td>11</td>\n",
       "    </tr>\n",
       "    <tr>\n",
       "      <th>Greece</th>\n",
       "      <td>2</td>\n",
       "      <td>2</td>\n",
       "    </tr>\n",
       "    <tr>\n",
       "      <th>Ireland</th>\n",
       "      <td>0</td>\n",
       "      <td>1</td>\n",
       "    </tr>\n",
       "    <tr>\n",
       "      <th>Italy</th>\n",
       "      <td>0</td>\n",
       "      <td>1</td>\n",
       "    </tr>\n",
       "    <tr>\n",
       "      <th>Mexico</th>\n",
       "      <td>0</td>\n",
       "      <td>1</td>\n",
       "    </tr>\n",
       "    <tr>\n",
       "      <th>Netherlands</th>\n",
       "      <td>1</td>\n",
       "      <td>0</td>\n",
       "    </tr>\n",
       "    <tr>\n",
       "      <th>Puerto Rico</th>\n",
       "      <td>0</td>\n",
       "      <td>1</td>\n",
       "    </tr>\n",
       "    <tr>\n",
       "      <th>Russia</th>\n",
       "      <td>0</td>\n",
       "      <td>1</td>\n",
       "    </tr>\n",
       "    <tr>\n",
       "      <th>United Kingdom</th>\n",
       "      <td>1</td>\n",
       "      <td>1</td>\n",
       "    </tr>\n",
       "    <tr>\n",
       "      <th>United States</th>\n",
       "      <td>2</td>\n",
       "      <td>6</td>\n",
       "    </tr>\n",
       "  </tbody>\n",
       "</table>\n",
       "</div>"
      ],
      "text/plain": [
       "Succeeded       No  Yes\n",
       "Country                \n",
       "Australia        1    1\n",
       "Belgium          2    2\n",
       "Brazil           0    2\n",
       "Canada           1    3\n",
       "Chile            0    1\n",
       "France           4   11\n",
       "Greece           2    2\n",
       "Ireland          0    1\n",
       "Italy            0    1\n",
       "Mexico           0    1\n",
       "Netherlands      1    0\n",
       "Puerto Rico      0    1\n",
       "Russia           0    1\n",
       "United Kingdom   1    1\n",
       "United States    2    6"
      ]
     },
     "metadata": {},
     "output_type": "display_data"
    }
   ],
   "source": [
    "attempt=pd.crosstab(df.Country,df.Succeeded)\n",
    "display(attempt)"
   ]
  },
  {
   "cell_type": "markdown",
   "metadata": {},
   "source": [
    "### Transformando DataFrame a Lista:\n",
    "    Para modelar los datos, necesitamos trabajar con listas, por lo que transformaremos nuestro DataFrame con los siguientes pasos:\n",
    "        1. Definimos una lista vacía, la cual contendrá nuestro DataFrame transformado.\n",
    "        2. Recorreremos el DataFrame 'attempt' a través de dos variables; index, la cual refiere al país y row, la cual refiere al número de veces que se logró, o no, escapar de la prisión de ese país en particular.\n",
    "        3. Asignamos la cadena 'index' a la variable tipo lista 'a'.\n",
    "        4. Extendemos la lista a con el método .extend() y usamos como argumento los valores de row, transformados a una lista con el método list().\n",
    "        5. Finalmente, añadimos la lista 'a', la cual se reemplaza en cada iteración, a la lisa 'list1'."
   ]
  },
  {
   "cell_type": "code",
   "execution_count": 14,
   "metadata": {},
   "outputs": [
    {
     "name": "stdout",
     "output_type": "stream",
     "text": [
      "[['Australia', 1, 1], ['Belgium', 2, 2], ['Brazil', 0, 2], ['Canada', 1, 3], ['Chile', 0, 1], ['France', 4, 11], ['Greece', 2, 2], ['Ireland', 0, 1], ['Italy', 0, 1], ['Mexico', 0, 1], ['Netherlands', 1, 0], ['Puerto Rico', 0, 1], ['Russia', 0, 1], ['United Kingdom', 1, 1], ['United States', 2, 6]]\n"
     ]
    }
   ],
   "source": [
    "list1 = []\n",
    "\n",
    "for index, row in attempt.iterrows():\n",
    "    a = [index]\n",
    "    a.extend(list(row.values))\n",
    "    list1.append(a)\n",
    "    \n",
    "print(list1)"
   ]
  },
  {
   "cell_type": "markdown",
   "metadata": {},
   "source": [
    "### Calculando la probabilidad relativa:\n",
    "Para calcular la probabilidad relativa, se utilizará la fórmula siguiente: \"Tasa de éxito relativa del país X = (Número de éxitos del país X / Número total de intentos del país X) * C\", donde \"C = 1 / max(Número total de intentos en cualquier país)\". Para efectos más visuales, escogeremos algun país que tenga como máximo 2 intentos."
   ]
  },
  {
   "cell_type": "code",
   "execution_count": 15,
   "metadata": {},
   "outputs": [
    {
     "data": {
      "image/png": "[encoded data removed]",
      "text/plain": [
       "<Figure size 900x1500 with 1 Axes>"
      ]
     },
     "metadata": {},
     "output_type": "display_data"
    }
   ],
   "source": [
    "sum1 = []\n",
    "relative = []\n",
    "c = 1/2\n",
    "\n",
    "for i in list1:\n",
    "    r = i[1] + i[2]\n",
    "    sum1.append(r)\n",
    "\n",
    "for i in range(len(list1)):\n",
    "    div = list1[i][2]/int(sum1[i])\n",
    "    relative.append([list1[i][0],round(div*c,3)])\n",
    "    \n",
    "barplot(relative)"
   ]
  },
  {
   "cell_type": "markdown",
   "metadata": {},
   "source": [
    "### Conclusión 3:\n",
    "Tenemos un empate entre los países: Rusia, Puerto Rico, México, Italia, Irlanda, Chile y Brazil; en los cuales la probabilidad de éxito relativa es de 0.5."
   ]
  },
  {
   "cell_type": "markdown",
   "metadata": {},
   "source": [
    "## Resolviendo la pregunta 4."
   ]
  },
  {
   "cell_type": "markdown",
   "metadata": {},
   "source": [
    "### Agradeceré su apoyo en esta pregunta ya que no pude ejecutarla en código."
   ]
  },
  {
   "cell_type": "markdown",
   "metadata": {},
   "source": [
    "## Resolviendo la pregunta 5."
   ]
  },
  {
   "cell_type": "markdown",
   "metadata": {},
   "source": [
    "### Trabajando con listas:\n",
    "Debido a que existen nombres pegados en la columna 'Escapee(s)' cuando hay más de un criminal que intentó escaparse, se transformará la columna en una lista, luego se separará con la regla r'(?<=[a-z])(?=[A-Z])', la cual separa las cadenas cuando encuentra una cadena con una letra minúscula y una letra mayúscula juntas. Luego se asignarán los nuevos elementos a una nueva lista 'new_list' y se eliminarán las filas que no tengan datos, representadas por '-', a través de la función 'filter'. "
   ]
  },
  {
   "cell_type": "code",
   "execution_count": 16,
   "metadata": {},
   "outputs": [],
   "source": [
    "col = df['Escapee(s)'].to_list()\n",
    "new_list = []\n",
    "for item in col:\n",
    "    new_item = re.split(r'(?<=[a-z])(?=[A-Z])', item)\n",
    "    new_list += new_item\n",
    "new_list = list(filter(lambda x: x != '—', new_list))"
   ]
  },
  {
   "cell_type": "markdown",
   "metadata": {},
   "source": [
    "### Imprimiendo resultados:\n",
    "Convertimos 'new_list' a un diccionario para nombrar la columna, de la tabla a imprimir, como 'Times'. Luego lo convertimos en un DataFrame para utilizar el método '.value_counts()' para contar las repeticiones en una variable llamada 'count'. Finalmente, por tema estético, ejecutamos la función 'display', transformando la variable count en un DataFrame para que se pueda imprimir."
   ]
  },
  {
   "cell_type": "code",
   "execution_count": 17,
   "metadata": {},
   "outputs": [
    {
     "data": {
      "text/html": [
       "<div>\n",
       "<style scoped>\n",
       "    .dataframe tbody tr th:only-of-type {\n",
       "        vertical-align: middle;\n",
       "    }\n",
       "\n",
       "    .dataframe tbody tr th {\n",
       "        vertical-align: top;\n",
       "    }\n",
       "\n",
       "    .dataframe thead th {\n",
       "        text-align: right;\n",
       "    }\n",
       "</style>\n",
       "<table border=\"1\" class=\"dataframe\">\n",
       "  <thead>\n",
       "    <tr style=\"text-align: right;\">\n",
       "      <th></th>\n",
       "      <th>Times</th>\n",
       "    </tr>\n",
       "  </thead>\n",
       "  <tbody>\n",
       "    <tr>\n",
       "      <th>Michel Vaujour</th>\n",
       "      <td>2</td>\n",
       "    </tr>\n",
       "    <tr>\n",
       "      <th>Pascal Payet</th>\n",
       "      <td>2</td>\n",
       "    </tr>\n",
       "    <tr>\n",
       "      <th>Pola Roupa</th>\n",
       "      <td>1</td>\n",
       "    </tr>\n",
       "    <tr>\n",
       "      <th>Ben Kramer</th>\n",
       "      <td>1</td>\n",
       "    </tr>\n",
       "    <tr>\n",
       "      <th>Serge Pomerleau</th>\n",
       "      <td>1</td>\n",
       "    </tr>\n",
       "    <tr>\n",
       "      <th>...</th>\n",
       "      <td>...</td>\n",
       "    </tr>\n",
       "    <tr>\n",
       "      <th>James Kenneth Johnson</th>\n",
       "      <td>1</td>\n",
       "    </tr>\n",
       "    <tr>\n",
       "      <th>William Douglas Ballew</th>\n",
       "      <td>1</td>\n",
       "    </tr>\n",
       "    <tr>\n",
       "      <th>David Mc</th>\n",
       "      <td>1</td>\n",
       "    </tr>\n",
       "    <tr>\n",
       "      <th>Sydney Draper</th>\n",
       "      <td>1</td>\n",
       "    </tr>\n",
       "    <tr>\n",
       "      <th>Joel David Kaplan Carlos Antonio Contreras Castro</th>\n",
       "      <td>1</td>\n",
       "    </tr>\n",
       "  </tbody>\n",
       "</table>\n",
       "<p>64 rows × 1 columns</p>\n",
       "</div>"
      ],
      "text/plain": [
       "                                                   Times\n",
       "Michel Vaujour                                         2\n",
       "Pascal Payet                                           2\n",
       "Pola Roupa                                             1\n",
       "Ben Kramer                                             1\n",
       "Serge Pomerleau                                        1\n",
       "...                                                  ...\n",
       "James Kenneth Johnson                                  1\n",
       "William Douglas Ballew                                 1\n",
       "David Mc                                               1\n",
       "Sydney Draper                                          1\n",
       "Joel David Kaplan Carlos Antonio Contreras Castro      1\n",
       "\n",
       "[64 rows x 1 columns]"
      ]
     },
     "metadata": {},
     "output_type": "display_data"
    }
   ],
   "source": [
    "dat1 = {'Times': new_list}\n",
    "df3 = pd.DataFrame(dat1)\n",
    "count = df3['Times'].value_counts()\n",
    "display(pd.DataFrame(count))"
   ]
  },
  {
   "cell_type": "markdown",
   "metadata": {},
   "source": [
    "### Conclusión 5:\n",
    "\n",
    "Las personas que intentaron escapar más de una vez fueron Pascal Payet y Micheal Vaujour, los cuales intentaron escapar dos veces.\n",
    "\n",
    "### Observación:\n",
    "\n",
    "Vasilis Paleokostas también intentó escapar más de una vez, sin embargo, en la data figura con dos nombres diferentes, 'Vasilis' Paleokostas y 'Vassilis' Paleokostas, por lo que el código no pudo resaltar su participación también."
   ]
  }
 ],
 "metadata": {
  "kernelspec": {
   "display_name": "Python 3",
   "language": "python",
   "name": "python3"
  },
  "language_info": {
   "codemirror_mode": {
    "name": "ipython",
    "version": 3
   },
   "file_extension": ".py",
   "mimetype": "text/x-python",
   "name": "python",
   "nbconvert_exporter": "python",
   "pygments_lexer": "ipython3",
   "version": "3.8.2"
  }
 },
 "nbformat": 4,
 "nbformat_minor": 2
}
